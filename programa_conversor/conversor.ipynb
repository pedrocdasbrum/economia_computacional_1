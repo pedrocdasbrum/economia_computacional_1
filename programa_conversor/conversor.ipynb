{
 "cells": [
  {
   "cell_type": "markdown",
   "id": "5bf4ae0d-36fc-4e97-b303-e72dfd042de6",
   "metadata": {},
   "source": [
    "# Codificação do Programa Conversor\n",
    "\n",
    "## Requisitos\n",
    "O problema é desenvolver um programa que leia um valor em metros e o converta para milímetros"
   ]
  },
  {
   "cell_type": "code",
   "execution_count": null,
   "id": "738b9629-e7dc-4b86-915e-b35d5f3dd2a3",
   "metadata": {},
   "outputs": [],
   "source": [
    "# Alocação de memória\n",
    "\n",
    "value: int = 0\n",
    "\n",
    "mil = 0\n",
    "\n",
    "# Entrada de dados\n",
    "\n",
    "value = int(input(\"\\nInsira um valor em metro: \"))\n",
    "\n",
    "# Processamento de dados\n",
    "\n",
    "mil = value * 1000\n",
    "\n",
    "# Saída de dados\n",
    "\n",
    "print(f\"\\nEste metro em milímetros é: {mil}mm\")"
   ]
  }
 ],
 "metadata": {
  "kernelspec": {
   "display_name": "Python 3 (ipykernel)",
   "language": "python",
   "name": "python3"
  },
  "language_info": {
   "codemirror_mode": {
    "name": "ipython",
    "version": 3
   },
   "file_extension": ".py",
   "mimetype": "text/x-python",
   "name": "python",
   "nbconvert_exporter": "python",
   "pygments_lexer": "ipython3",
   "version": "3.11.7"
  }
 },
 "nbformat": 4,
 "nbformat_minor": 5
}
