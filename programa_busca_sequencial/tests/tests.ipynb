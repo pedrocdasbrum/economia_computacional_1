{
 "cells": [
  {
   "cell_type": "markdown",
   "id": "1b426761-2f9e-4005-b3bd-5c7e1eb701f8",
   "metadata": {},
   "source": [
    "# Estrutura de dados"
   ]
  },
  {
   "cell_type": "markdown",
   "id": "c66ab3ec-09b8-4654-923a-1eda52f2d4e3",
   "metadata": {},
   "source": [
    "## List"
   ]
  },
  {
   "cell_type": "code",
   "execution_count": 1,
   "id": "e949b7e6-9984-4d5c-b46d-180835e4f117",
   "metadata": {},
   "outputs": [],
   "source": [
    "# listagem 1\n",
    "\n",
    "## Alocação de memória\n",
    "\n",
    "a = [1, 'b', 2.3]"
   ]
  },
  {
   "cell_type": "code",
   "execution_count": 2,
   "id": "e5728c0e-e2c5-46cb-b35b-4e907656e6af",
   "metadata": {},
   "outputs": [
    {
     "name": "stdout",
     "output_type": "stream",
     "text": [
      "[1, 'b', 2.3]\n"
     ]
    }
   ],
   "source": [
    "# Saída de dados\n",
    "\n",
    "print(a)"
   ]
  },
  {
   "cell_type": "code",
   "execution_count": 1,
   "id": "4f096da4-b892-41fc-93b6-30931226f0ad",
   "metadata": {},
   "outputs": [
    {
     "ename": "NameError",
     "evalue": "name 'a' is not defined",
     "output_type": "error",
     "traceback": [
      "\u001b[1;31m---------------------------------------------------------------------------\u001b[0m",
      "\u001b[1;31mNameError\u001b[0m                                 Traceback (most recent call last)",
      "Cell \u001b[1;32mIn[1], line 3\u001b[0m\n\u001b[0;32m      1\u001b[0m \u001b[38;5;66;03m# Acessando os elementos da lista\u001b[39;00m\n\u001b[1;32m----> 3\u001b[0m \u001b[38;5;28mprint\u001b[39m(a[\u001b[38;5;241m0\u001b[39m])\n\u001b[0;32m      4\u001b[0m \u001b[38;5;28mprint\u001b[39m(a[\u001b[38;5;241m1\u001b[39m])\n\u001b[0;32m      5\u001b[0m \u001b[38;5;28mprint\u001b[39m(a[\u001b[38;5;241m2\u001b[39m])\n",
      "\u001b[1;31mNameError\u001b[0m: name 'a' is not defined"
     ]
    }
   ],
   "source": [
    "# Acessando os elementos da lista\n",
    "\n",
    "print(a[0])\n",
    "print(a[1])\n",
    "print(a[2])"
   ]
  },
  {
   "cell_type": "markdown",
   "id": "aded4b9e-7cb5-4e7c-88f6-072b37672d4b",
   "metadata": {},
   "source": [
    "### Operações com listas"
   ]
  },
  {
   "cell_type": "code",
   "execution_count": 11,
   "id": "465c6233-51da-46c0-a59a-1f3ecfb66eba",
   "metadata": {},
   "outputs": [
    {
     "name": "stdout",
     "output_type": "stream",
     "text": [
      "[2, 1, 2]\n"
     ]
    }
   ],
   "source": [
    "# Modificando elementos da lista\n",
    "\n",
    "a[1] = 1\n",
    "\n",
    "print(a)"
   ]
  },
  {
   "cell_type": "code",
   "execution_count": 12,
   "id": "ed2965c1-8b91-4902-b36f-0b84c2806ff8",
   "metadata": {},
   "outputs": [],
   "source": [
    "## Listagem 2: ordenação de listas\n",
    "\n",
    "# Alocação de memória\n",
    "\n",
    "lista = [1, 5, 2, 87, 31]"
   ]
  },
  {
   "cell_type": "code",
   "execution_count": 13,
   "id": "b2a75b77-a74d-45ee-93a8-a85f0d852fc1",
   "metadata": {},
   "outputs": [
    {
     "name": "stdout",
     "output_type": "stream",
     "text": [
      "[1, 2, 5, 31, 87]\n"
     ]
    }
   ],
   "source": [
    "## Ordenação com a função sorted\n",
    "\n",
    "lista_ordenada_1 = sorted(lista)\n",
    "\n",
    "print(lista_ordenada_1)"
   ]
  },
  {
   "cell_type": "code",
   "execution_count": 16,
   "id": "0c4fb70b-87a8-4e7c-a38a-f93d699c63bb",
   "metadata": {},
   "outputs": [
    {
     "name": "stdout",
     "output_type": "stream",
     "text": [
      "[1, 2, 5, 31, 87]\n"
     ]
    }
   ],
   "source": [
    "print(lista)"
   ]
  },
  {
   "cell_type": "markdown",
   "id": "ed80b44a-1d1a-4797-9415-75bbdf826fac",
   "metadata": {},
   "source": [
    "### Busca sequencial"
   ]
  },
  {
   "cell_type": "code",
   "execution_count": 5,
   "id": "92110c14-7c45-4b1c-a9c1-2507128bb9a2",
   "metadata": {},
   "outputs": [],
   "source": [
    "# Base de dados de cpf\n",
    "\n",
    "base = [1, 5, 2, 87, 31]"
   ]
  },
  {
   "cell_type": "code",
   "execution_count": 6,
   "id": "658de9e9-a636-4c1c-9630-2445e4e4f47b",
   "metadata": {},
   "outputs": [],
   "source": [
    "# Código do programador\n",
    "\n",
    "## Alocação de memória\n",
    "\n",
    "lista = base\n",
    "\n",
    "achou = False\n",
    "\n",
    "posicao = 0"
   ]
  },
  {
   "cell_type": "markdown",
   "id": "6775d0cd-71c2-4467-a218-da973db66d5d",
   "metadata": {},
   "source": [
    "# Leitura de dados"
   ]
  },
  {
   "cell_type": "code",
   "execution_count": 13,
   "id": "7cb813ac-a511-4504-9ba8-333296240934",
   "metadata": {},
   "outputs": [
    {
     "name": "stdin",
     "output_type": "stream",
     "text": [
      "\n",
      "Digite o valor a procurar:  31\n"
     ]
    }
   ],
   "source": [
    "# Entrada de dados\n",
    "lista = base\n",
    "cpf = int(input(\"\\nDigite o valor a procurar: \"))"
   ]
  },
  {
   "cell_type": "code",
   "execution_count": 14,
   "id": "0b638a4f-fd59-44af-9cd0-587a41f16816",
   "metadata": {},
   "outputs": [
    {
     "name": "stdout",
     "output_type": "stream",
     "text": [
      "31\n"
     ]
    }
   ],
   "source": [
    "print(cpf) # Debug com print"
   ]
  },
  {
   "cell_type": "code",
   "execution_count": 15,
   "id": "2da08eb4-f6c2-42b6-bdd0-93c88f03a9c8",
   "metadata": {},
   "outputs": [],
   "source": [
    "# Processamento de dados\n",
    "\n",
    "while posicao < len(lista):\n",
    "    if lista[posicao] == cpf:\n",
    "        achou = True\n",
    "        break\n",
    "    posicao += 1 # é a mesma coisa que posicao + 1"
   ]
  },
  {
   "cell_type": "code",
   "execution_count": 16,
   "id": "8c1cac20-2fac-4b07-a2c4-52826297b5a0",
   "metadata": {},
   "outputs": [
    {
     "name": "stdout",
     "output_type": "stream",
     "text": [
      "\n",
      "O valor 31 foi encontrado na posição 4\n"
     ]
    }
   ],
   "source": [
    "# Saída de dados\n",
    "\n",
    "if achou:\n",
    "    print(f\"\\nO valor {cpf} foi encontrado na posição {posicao}\")\n",
    "else:\n",
    "    print(f\"\\nO valor {cpf} não foi encontrado!\")"
   ]
  },
  {
   "cell_type": "code",
   "execution_count": null,
   "id": "fbb8e73d-e4ae-4892-a6c1-e4ed06970dfc",
   "metadata": {},
   "outputs": [],
   "source": []
  }
 ],
 "metadata": {
  "kernelspec": {
   "display_name": "Python 3 (ipykernel)",
   "language": "python",
   "name": "python3"
  },
  "language_info": {
   "codemirror_mode": {
    "name": "ipython",
    "version": 3
   },
   "file_extension": ".py",
   "mimetype": "text/x-python",
   "name": "python",
   "nbconvert_exporter": "python",
   "pygments_lexer": "ipython3",
   "version": "3.11.7"
  }
 },
 "nbformat": 4,
 "nbformat_minor": 5
}
