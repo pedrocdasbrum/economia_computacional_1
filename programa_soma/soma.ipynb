{
 "cells": [
  {
   "cell_type": "markdown",
   "id": "daeb74b9-064e-4a0b-8586-2d1bda4750a7",
   "metadata": {},
   "source": [
    "# Codificação do programa soma\n",
    "\n",
    "## Requisitos\n",
    "O problema é desenvolver um programa que leia dois números inteiros digitados pelo usuário e ponha na tela a soma deles."
   ]
  },
  {
   "cell_type": "code",
   "execution_count": 7,
   "id": "8fa963dc-7495-4b86-82b2-d258a6dde004",
   "metadata": {},
   "outputs": [
    {
     "name": "stdin",
     "output_type": "stream",
     "text": [
      "\n",
      "Qual é o primeiro número?  3\n",
      "\n",
      "Qual é o segundo número?  7\n"
     ]
    },
    {
     "name": "stdout",
     "output_type": "stream",
     "text": [
      "10\n"
     ]
    }
   ],
   "source": [
    "# Alocação de memória\n",
    "\n",
    "numero_1: int = 0\n",
    "\n",
    "numero_2: int = 0\n",
    "\n",
    "soma: int = 0\n",
    "\n",
    "# Entrada de dados\n",
    "\n",
    "numero_1 = int(input(\"\\nQual é o primeiro número? \"))\n",
    "\n",
    "numero_2 = int(input(\"\\nQual é o segundo número? \"))\n",
    "\n",
    "# Processamento de dados\n",
    "\n",
    "soma = numero_1 + numero_2\n",
    "\n",
    "# Saída de dados\n",
    "\n",
    "print(soma)\n"
   ]
  },
  {
   "cell_type": "code",
   "execution_count": null,
   "id": "6a1d21d3-d55b-4dc1-a0b6-99c104ed139c",
   "metadata": {},
   "outputs": [],
   "source": [
    "\"\"\"\n",
    "Programa Soma\n",
    "Descrição: Este programa lê dois números inteiros digitados pelo usuário e põe na tela a soma deles\n",
    "Autor: Pedro Brum\n",
    "Data: 12/04/2024\n",
    "Versão: 0.0.2\n",
    "\"\"\"\n",
    "\n",
    "# Alocação de memória\n",
    "\n",
    "i: int = 0\n",
    "\n",
    "numero: int = 0\n",
    "\n",
    "soma: int = 0\n",
    "\n",
    "# Entrada de dados e processamento de dados\n",
    "\n",
    "while i < 2:\n",
    "    numero = int(input(f\"\\nDigite a parcela {i + 1}: \"))\n",
    "    soma = soma + numero\n",
    "    i += 1\n",
    "\n",
    "# Saída de dados\n",
    "\n",
    "print(f\"\\nA soma dos números digitados é igual a {soma}\")"
   ]
  }
 ],
 "metadata": {
  "kernelspec": {
   "display_name": "Python 3 (ipykernel)",
   "language": "python",
   "name": "python3"
  },
  "language_info": {
   "codemirror_mode": {
    "name": "ipython",
    "version": 3
   },
   "file_extension": ".py",
   "mimetype": "text/x-python",
   "name": "python",
   "nbconvert_exporter": "python",
   "pygments_lexer": "ipython3",
   "version": "3.11.7"
  }
 },
 "nbformat": 4,
 "nbformat_minor": 5
}
