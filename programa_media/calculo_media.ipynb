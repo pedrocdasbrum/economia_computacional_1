{
 "cells": [
  {
   "cell_type": "code",
   "execution_count": null,
   "id": "0457aa8c-dea0-4c59-8b29-d7e9bdd4565c",
   "metadata": {},
   "outputs": [],
   "source": [
    "\"\"\"\n",
    "Programa de Cálculo de Média\n",
    "Autor: Pedro Brum\n",
    "Descrição: calcular uma média em paradigma de programação estruturada\n",
    "Data: 05/04/2024\n",
    "Versão: 0.0.1\n",
    "\"\"\""
   ]
  },
  {
   "cell_type": "markdown",
   "id": "73cabb95-17c6-4646-a919-bd1ffbd3e296",
   "metadata": {},
   "source": [
    "# Alocação de memória"
   ]
  },
  {
   "cell_type": "code",
   "execution_count": 4,
   "id": "d836ad14-58ab-4211-aefa-be2c07fccad6",
   "metadata": {},
   "outputs": [],
   "source": [
    "soma: float = 0\n",
    "\n",
    "valor: float = 0\n",
    "\n",
    "i: int = 0\n",
    "\n",
    "num_val: int = 0"
   ]
  },
  {
   "cell_type": "markdown",
   "id": "0912deaf-1169-4164-baad-888453ff3b35",
   "metadata": {},
   "source": [
    "# Entrada e processamento de dados"
   ]
  },
  {
   "cell_type": "code",
   "execution_count": 2,
   "id": "41d5e1c4-024f-452e-8291-9cc5b856e9ca",
   "metadata": {},
   "outputs": [
    {
     "name": "stdin",
     "output_type": "stream",
     "text": [
      "\n",
      "Qual o número de valores?  7\n",
      "Insira um valor:  3\n",
      "Insira um valor:  4\n",
      "Insira um valor:  8\n",
      "Insira um valor:  9\n",
      "Insira um valor:  43\n",
      "Insira um valor:  67\n",
      "Insira um valor:  12\n"
     ]
    }
   ],
   "source": [
    "num_val = int(input(\"\\nQual o número de valores? \"))\n",
    "\n",
    "while i < num_val:\n",
    "    valor = float(input(\"Insira um valor: \"))\n",
    "    soma = soma + valor\n",
    "    i = i + 1\n",
    "    media = soma / num_val"
   ]
  },
  {
   "cell_type": "markdown",
   "id": "ba7d3784-c9a4-4f72-8b7b-ef11bf062924",
   "metadata": {},
   "source": [
    "# Saída de dados"
   ]
  },
  {
   "cell_type": "code",
   "execution_count": 3,
   "id": "370885eb-958d-47c7-a264-a19432c62e4d",
   "metadata": {},
   "outputs": [
    {
     "name": "stdout",
     "output_type": "stream",
     "text": [
      "A média dos valores é: 20.857142857142858\n"
     ]
    }
   ],
   "source": [
    "print(f\"A média dos valores é: {media}\")"
   ]
  }
 ],
 "metadata": {
  "kernelspec": {
   "display_name": "Python 3 (ipykernel)",
   "language": "python",
   "name": "python3"
  },
  "language_info": {
   "codemirror_mode": {
    "name": "ipython",
    "version": 3
   },
   "file_extension": ".py",
   "mimetype": "text/x-python",
   "name": "python",
   "nbconvert_exporter": "python",
   "pygments_lexer": "ipython3",
   "version": "3.11.7"
  }
 },
 "nbformat": 4,
 "nbformat_minor": 5
}
