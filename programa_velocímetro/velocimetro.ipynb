{
 "cells": [
  {
   "cell_type": "markdown",
   "id": "31a040b2-6f09-4d83-8686-db57563572d1",
   "metadata": {},
   "source": [
    "# Programa Velocímetro\n",
    "## Requisitos\n",
    "O problema é desenvolver um programa que pergunte a velocidade do carro do usuário. Caso ele ultrapasse 80km/h, exiba uma mensagem dizendo que o usuário foi multado. Neste caso, exiba o valor da multa, cobrando R$ 5,00 por km acima de 80km/h"
   ]
  },
  {
   "cell_type": "code",
   "execution_count": 5,
   "id": "6718b9c8-55b1-4d90-b3de-724ad0b87555",
   "metadata": {},
   "outputs": [
    {
     "name": "stdin",
     "output_type": "stream",
     "text": [
      "\n",
      "Seu carro está em qual velocidade?  345\n"
     ]
    },
    {
     "name": "stdout",
     "output_type": "stream",
     "text": [
      "\n",
      "Você foi multado!\n",
      "\n",
      "Pague a multa em R$1725,00!\n"
     ]
    }
   ],
   "source": [
    "# Alocação de memória\n",
    "\n",
    "vel_car: int = 0\n",
    "\n",
    "warning = 0\n",
    "\n",
    "mul: int = 0\n",
    "\n",
    "# Entrada de dados\n",
    "\n",
    "vel_car = int(input(\"\\nSeu carro está em qual velocidade? \"))\n",
    "\n",
    "# Processamento e saída de dados\n",
    "\n",
    "if vel_car > 80:\n",
    "    mul = vel_car * 5\n",
    "    warning = print(f\"\\nVocê foi multado! Pague a multa em R${mul},00!\")\n",
    "else:\n",
    "    warning = print(\"\\nVocê está dentro do limite de velocidade!\")"
   ]
  }
 ],
 "metadata": {
  "kernelspec": {
   "display_name": "Python 3 (ipykernel)",
   "language": "python",
   "name": "python3"
  },
  "language_info": {
   "codemirror_mode": {
    "name": "ipython",
    "version": 3
   },
   "file_extension": ".py",
   "mimetype": "text/x-python",
   "name": "python",
   "nbconvert_exporter": "python",
   "pygments_lexer": "ipython3",
   "version": "3.11.7"
  }
 },
 "nbformat": 4,
 "nbformat_minor": 5
}
