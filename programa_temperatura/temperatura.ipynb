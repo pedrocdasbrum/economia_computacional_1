{
 "cells": [
  {
   "cell_type": "markdown",
   "id": "bf0686d1-9a1e-4c1e-b79a-0a86730748ed",
   "metadata": {},
   "source": [
    "# Programa Temperatura\n",
    "## Requisitos\n",
    "O problema é desenvolver um programa que pergunte a temperatura do ambiente. Se ela for menor ou igual a 18 graus Celsius, imprimir uma mensagem de que está frio. Se ela estiver de 18 a 28 graus Celsius, imprimir que está agradável. Se estiver mais do que 28 graus Celsius, imprimir que está quente"
   ]
  },
  {
   "cell_type": "code",
   "execution_count": null,
   "id": "38f326fe-66f7-4825-b0c2-5b1f40cd0afb",
   "metadata": {},
   "outputs": [],
   "source": [
    "# Alocação de memória\n",
    "\n",
    "temp: int = 0\n",
    "\n",
    "# Entrada de dados\n",
    "\n",
    "temp = int(input(\"\\nQual a temperatura do seu ambiente? \"))\n",
    "\n",
    "# Processamento e saída de dados\n",
    "\n",
    "if temp <= 18:\n",
    "    print(\"\\nEntão a temperatura está fria!\")\n",
    "elif 18 <= temp <= 28:\n",
    "    print(\"\\nEntão a temperatura está agradável!\")\n"
   ]
  }
 ],
 "metadata": {
  "kernelspec": {
   "display_name": "Python 3 (ipykernel)",
   "language": "python",
   "name": "python3"
  },
  "language_info": {
   "codemirror_mode": {
    "name": "ipython",
    "version": 3
   },
   "file_extension": ".py",
   "mimetype": "text/x-python",
   "name": "python",
   "nbconvert_exporter": "python",
   "pygments_lexer": "ipython3",
   "version": "3.11.7"
  }
 },
 "nbformat": 4,
 "nbformat_minor": 5
}
